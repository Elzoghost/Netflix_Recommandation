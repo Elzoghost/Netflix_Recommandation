{
 "cells": [
  {
   "cell_type": "code",
   "execution_count": 7,
   "metadata": {},
   "outputs": [],
   "source": [
    "import pandas as pd\n",
    "import numpy as np\n",
    "from sklearn.metrics.pairwise import cosine_similarity"
   ]
  },
  {
   "cell_type": "code",
   "execution_count": 8,
   "metadata": {},
   "outputs": [],
   "source": [
    "# Création d'un ensemble de données de notation d'utilisateurs pour les produits\n",
    "ratings_data = {'Produit A': [5, 3, 0, 3, 2],\n",
    "                'Produit B': [2, 5, 3, 1, 0],\n",
    "                'Produit C': [3, 1, 4, 5, 5],\n",
    "                'Produit D': [0, 0, 2, 4, 5]}\n",
    "df = pd.DataFrame(ratings_data, index=['Utilisateur 1', 'Utilisateur 2', 'Utilisateur 3', 'Utilisateur 4', 'Utilisateur 5'])\n"
   ]
  },
  {
   "cell_type": "code",
   "execution_count": 9,
   "metadata": {},
   "outputs": [],
   "source": [
    "# Calcul de la similarité cosinus entre les utilisateurs\n",
    "similarite = cosine_similarity(df)"
   ]
  },
  {
   "cell_type": "code",
   "execution_count": 10,
   "metadata": {},
   "outputs": [],
   "source": [
    "# Fonction de recommandation de produits similaires à ceux achetés par un utilisateur donné\n",
    "def recommander_produits(utilisateur):\n",
    "    # Trouver les produits que l'utilisateur a aimés\n",
    "    produits_aimés = df.loc[utilisateur][df.loc[utilisateur] > 0].index\n",
    "    # Trouver les utilisateurs similaires à l'utilisateur donné\n",
    "    utilisateurs_similaires = np.argsort(similarite[df.index.get_loc(utilisateur),:])[::-1][1:]\n",
    "    # Recommander des produits aimés par les utilisateurs similaires mais pas encore achetés par l'utilisateur donné\n",
    "    recommandations = []\n",
    "    for user in utilisateurs_similaires:\n",
    "        produits_aimés_similaires = df.iloc[user][df.iloc[user].index.isin(produits_aimés)].index\n",
    "        recommandations.extend(list(set(produits_aimés_similaires) - set(produits_aimés)))\n",
    "        if len(recommandations) >= 5:\n",
    "            break\n",
    "    return recommandations"
   ]
  },
  {
   "cell_type": "code",
   "execution_count": 11,
   "metadata": {},
   "outputs": [
    {
     "name": "stdout",
     "output_type": "stream",
     "text": [
      "[]\n"
     ]
    }
   ],
   "source": [
    "# Exemple de recommandation pour l'utilisateur 1\n",
    "print(recommander_produits('Utilisateur 1'))\n"
   ]
  }
 ],
 "metadata": {
  "kernelspec": {
   "display_name": "Python 3",
   "language": "python",
   "name": "python3"
  },
  "language_info": {
   "codemirror_mode": {
    "name": "ipython",
    "version": 3
   },
   "file_extension": ".py",
   "mimetype": "text/x-python",
   "name": "python",
   "nbconvert_exporter": "python",
   "pygments_lexer": "ipython3",
   "version": "3.10.10"
  },
  "orig_nbformat": 4
 },
 "nbformat": 4,
 "nbformat_minor": 2
}
